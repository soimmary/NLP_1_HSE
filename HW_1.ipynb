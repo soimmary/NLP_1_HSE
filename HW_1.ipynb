{
 "cells": [
  {
   "cell_type": "markdown",
   "metadata": {},
   "source": [
    "**Пайплайн:**\n",
    "\n",
    "- ✅ Сначала нам надо скачать дату – соберите как минимум 60 (30 положительных и 30 отрицательных) отзывов на похожие продукты (не надо мешать отзывы на отели с отзывами на ноутбуки) для составления \" тонального словаря\" (чем больше отзывов, тем лучше) и 10 отзывов для проверки качества.\n",
    "\n",
    "\n",
    "- ✅ Токенизируйте слова, приведите их к нижнему регистру и к начальной форме (1 балл за токенизацию, 1 - за начальную форму)\n",
    "\n",
    "\n",
    "- ✅ Составьте 2 множества - в одном будут слова, которые встречаются только в положительных отзывах, а в другом - встречающиеся только в отрицательных. Попробуйте поиграть с частотностями и исключить шум (к примеру, выбросить слова, встречающиеся 1-2 раза) (3 балла) (если у вас получились пустые множества, уберите фильтр по частотности или увеличьте выборку)\n",
    "\n",
    "\n",
    "- ✅ Создайте функцию, которая будет определять, положительный ли отзыв или отрицательный в зависимости от того, какие слова встретились в нём, и посчитайте качество при помощи accuracy (1 - за коректно работающую функцию, 1 - за подсчёт accuracy)\n",
    "\n",
    "\n",
    "- Предложите как минимум 2 способа улучшить эту программу с помощью добавления к ней любых мулек - просто словами, писать улучшающий код не надо (1 балл)"
   ]
  },
  {
   "cell_type": "markdown",
   "metadata": {},
   "source": [
    "# №1 Parsing data"
   ]
  },
  {
   "cell_type": "markdown",
   "metadata": {},
   "source": [
    "Cобираем >60 (30 положительных и 30 отрицательных) отзывов на похожие продукты  для составления \"тонального словаря\" и 10 отзывов для проверки качества."
   ]
  },
  {
   "cell_type": "markdown",
   "metadata": {},
   "source": [
    "**Берём отзывы на рязанские отели с сайта tripadvisor.ru**"
   ]
  },
  {
   "cell_type": "code",
   "execution_count": 1,
   "metadata": {},
   "outputs": [],
   "source": [
    "from selenium import webdriver\n",
    "from selenium.webdriver.chrome.options import Options\n",
    "from fake_useragent import UserAgent\n",
    "from sklearn.metrics import accuracy_score\n",
    "\n",
    "from collections import Counter\n",
    "from pymystem3 import Mystem\n",
    "import pandas as pd\n",
    "import nltk\n",
    "from tqdm import tqdm\n",
    "import time\n",
    "import csv\n",
    "import os\n",
    "import re\n",
    "\n",
    "m = Mystem()"
   ]
  },
  {
   "cell_type": "code",
   "execution_count": 2,
   "metadata": {},
   "outputs": [],
   "source": [
    "firefoxdriver_path = '/Users/mariabocharova/PycharmProjects/REALEC/firefoxdriver'\n",
    "chromedriver_path = '/Users/mariabocharova/PycharmProjects/REALEC/chromedriver'\n",
    "\n",
    "hotels = ['https://www.tripadvisor.ru/Hotel_Review-g298485-d1732311-Reviews-Congress_Hotel_Forum-Ryazan_Ryazan_Oblast_Central_Russia.html', \n",
    "          'https://www.tripadvisor.ru/Hotel_Review-g15512259-d6533471-Reviews-Tourist_Base_Polushkino-Polushkino_Ryazan_Oblast_Central_Russia.html', \n",
    "          'https://www.tripadvisor.ru/Hotel_Review-g298485-d7257464-Reviews-Hostel_Like-Ryazan_Ryazan_Oblast_Central_Russia.html', \n",
    "          'https://www.tripadvisor.ru/Hotel_Review-g298485-d10817084-Reviews-Kremlyovskiy-Ryazan_Ryazan_Oblast_Central_Russia.html', \n",
    "          'https://www.tripadvisor.ru/Hotel_Review-g298485-d1469261-Reviews-Aragon_Hotel-Ryazan_Ryazan_Oblast_Central_Russia.html',\n",
    "          'https://www.tripadvisor.ru/Hotel_Review-g298485-d5534355-Reviews-V_Nekotorom_Tsarstve_Hotel-Ryazan_Ryazan_Oblast_Central_Russia.html',\n",
    "          'https://www.tripadvisor.ru/Hotel_Review-g298485-d7133243-Reviews-Hotel_Ryazan-Ryazan_Ryazan_Oblast_Central_Russia.html']"
   ]
  },
  {
   "cell_type": "code",
   "execution_count": 3,
   "metadata": {},
   "outputs": [],
   "source": [
    "df_reviews = pd.DataFrame(columns=['positive', 'negative'])"
   ]
  },
  {
   "cell_type": "code",
   "execution_count": 4,
   "metadata": {},
   "outputs": [],
   "source": [
    "def get_reviews(hotel_link, save_to_path, firefoxdriver_path='/Users/mariabocharova/PycharmProjects/REALEC/firefoxdriver'):\n",
    "    options = Options()\n",
    "    ua = UserAgent()\n",
    "    userAgent = ua.random\n",
    "    options.add_argument(f'user-agent={userAgent}')\n",
    "    driver = webdriver.Firefox(executable_path=firefoxdriver_path)\n",
    "    driver.get(hotel_link)\n",
    "    time.sleep(5)\n",
    "\n",
    "    with open(save_to_path, 'a') as csvfile:\n",
    "        writer = csv.writer(csvfile)\n",
    "        try:\n",
    "            while driver.find_element_by_xpath(\".//a[@class='ui_button nav next primary ']\"):\n",
    "                # Нахожу блок с оценкой и отзывом\n",
    "                reviews = driver.find_elements_by_xpath(\"//div[@data-test-target='HR_CC_CARD']\")\n",
    "                for review in reviews:\n",
    "                    text = review.find_element_by_xpath(\".//q[@class='XllAv H4 _a']\").text\n",
    "                    score = float(review.find_element_by_xpath(\".//span[contains(@class, 'ui_bubble_rating bubble_')]\")\n",
    "                                .get_attribute(\"class\").strip('ui_bubble_rating bubble_'))\n",
    "                    # Сохраняю оценку и комментарий\n",
    "                    writer.writerow([score / 10, text])\n",
    "                driver.find_element_by_xpath(\".//a[@class='ui_button nav next primary ']\").click()\n",
    "                time.sleep(7)\n",
    "        except Exception as e:\n",
    "            pass\n",
    "    driver.close()"
   ]
  },
  {
   "cell_type": "code",
   "execution_count": null,
   "metadata": {},
   "outputs": [],
   "source": [
    "with open('tripadvisor_reviews.csv', 'a') as csvfile:\n",
    "        writer = csv.writer(csvfile)\n",
    "        writer.writerow(['score', 'text'])\n",
    "for link in tqdm(hotels):\n",
    "    get_reviews(link, 'tripadvisor_reviews.csv')"
   ]
  },
  {
   "cell_type": "markdown",
   "metadata": {},
   "source": [
    "**Всего отзывов:**"
   ]
  },
  {
   "cell_type": "code",
   "execution_count": 5,
   "metadata": {},
   "outputs": [
    {
     "data": {
      "text/plain": [
       "615"
      ]
     },
     "execution_count": 5,
     "metadata": {},
     "output_type": "execute_result"
    }
   ],
   "source": [
    "df = pd.read_csv('tripadvisor_reviews.csv')\n",
    "len(df)"
   ]
  },
  {
   "cell_type": "markdown",
   "metadata": {},
   "source": [
    "Будем считать, что отзыв является положительным, если его оценивают на 4-5. Если оценка меньше – то отзыв отрицательный. "
   ]
  },
  {
   "cell_type": "code",
   "execution_count": 6,
   "metadata": {},
   "outputs": [
    {
     "data": {
      "text/plain": [
       "5.0    309\n",
       "4.0    183\n",
       "3.0     72\n",
       "1.0     29\n",
       "2.0     22\n",
       "Name: score, dtype: int64"
      ]
     },
     "execution_count": 6,
     "metadata": {},
     "output_type": "execute_result"
    }
   ],
   "source": [
    "df['score'].value_counts(sort=True)"
   ]
  },
  {
   "cell_type": "markdown",
   "metadata": {},
   "source": [
    "Выберем рандомные 120 положительных и 120 отрицательных отзывов. "
   ]
  },
  {
   "cell_type": "code",
   "execution_count": 7,
   "metadata": {},
   "outputs": [],
   "source": [
    "df_positive = df.loc[df['score'] >= 4].sample(n = 120)\n",
    "df_negative = df.loc[df['score'] < 4].sample(n = 120)"
   ]
  },
  {
   "cell_type": "markdown",
   "metadata": {},
   "source": [
    "**Достанем отдельные отзывы для предсказания**"
   ]
  },
  {
   "cell_type": "code",
   "execution_count": null,
   "metadata": {},
   "outputs": [],
   "source": [
    "link = 'https://www.tripadvisor.ru/Hotel_Review-g298485-d6851547-Reviews-Esenin-Ryazan_Ryazan_Oblast_Central_Russia.html'\n",
    "get_reviews(link, 'tripadvisor_reviews_prediction.csv')"
   ]
  },
  {
   "cell_type": "code",
   "execution_count": 8,
   "metadata": {},
   "outputs": [],
   "source": [
    "def lemmatize(text):\n",
    "    lemm_text = ''\n",
    "    for word in m.lemmatize(text):\n",
    "        if word.isalpha():\n",
    "            lemm_text += f'{word} '\n",
    "    return lemm_text"
   ]
  },
  {
   "cell_type": "code",
   "execution_count": 9,
   "metadata": {},
   "outputs": [],
   "source": [
    "with open('tripadvisor_reviews_prediction.csv', encoding='utf-8') as f:\n",
    "    next(f)\n",
    "    negative_predict = [lemmatize(line[5:-2]).strip() for line in f if float(line[0:3]) < 4][:10]\n",
    "\n",
    "with open('tripadvisor_reviews_prediction.csv', encoding='utf-8') as f:\n",
    "    next(f)\n",
    "    positive_predict = [lemmatize(line[5:-2]).strip() for line in f if float(line[0:3]) >= 4][:10]      "
   ]
  },
  {
   "cell_type": "code",
   "execution_count": 10,
   "metadata": {},
   "outputs": [
    {
     "data": {
      "text/plain": [
       "4.0    34\n",
       "5.0    32\n",
       "3.0    28\n",
       "2.0    11\n",
       "1.0    10\n",
       "Name: score, dtype: int64"
      ]
     },
     "execution_count": 10,
     "metadata": {},
     "output_type": "execute_result"
    }
   ],
   "source": [
    "df_predict = pd.read_csv('tripadvisor_reviews_prediction.csv')\n",
    "df_predict['score'].value_counts(sort = True)"
   ]
  },
  {
   "cell_type": "markdown",
   "metadata": {},
   "source": [
    "# №2 Токенизация"
   ]
  },
  {
   "cell_type": "markdown",
   "metadata": {},
   "source": [
    "Токенизируем слова, приводим их к нижнему регистру и к начальной форме."
   ]
  },
  {
   "cell_type": "code",
   "execution_count": 11,
   "metadata": {},
   "outputs": [],
   "source": [
    "df_positive['text_lemm'] = df_positive['text'].apply(lemmatize)\n",
    "df_negative['text_lemm'] = df_negative['text'].apply(lemmatize)"
   ]
  },
  {
   "cell_type": "code",
   "execution_count": 12,
   "metadata": {},
   "outputs": [
    {
     "data": {
      "text/html": [
       "<div>\n",
       "<style scoped>\n",
       "    .dataframe tbody tr th:only-of-type {\n",
       "        vertical-align: middle;\n",
       "    }\n",
       "\n",
       "    .dataframe tbody tr th {\n",
       "        vertical-align: top;\n",
       "    }\n",
       "\n",
       "    .dataframe thead th {\n",
       "        text-align: right;\n",
       "    }\n",
       "</style>\n",
       "<table border=\"1\" class=\"dataframe\">\n",
       "  <thead>\n",
       "    <tr style=\"text-align: right;\">\n",
       "      <th></th>\n",
       "      <th>score</th>\n",
       "      <th>text</th>\n",
       "      <th>text_lemm</th>\n",
       "    </tr>\n",
       "  </thead>\n",
       "  <tbody>\n",
       "    <tr>\n",
       "      <th>516</th>\n",
       "      <td>4.0</td>\n",
       "      <td>Отель подкупает отличным соотношением \"цена/ка...</td>\n",
       "      <td>отель подкупать отличный соотношение цена каче...</td>\n",
       "    </tr>\n",
       "    <tr>\n",
       "      <th>4</th>\n",
       "      <td>5.0</td>\n",
       "      <td>Отель замечательный. В номере есть холодильник...</td>\n",
       "      <td>отель замечательный в номер быть холодильник ч...</td>\n",
       "    </tr>\n",
       "    <tr>\n",
       "      <th>511</th>\n",
       "      <td>5.0</td>\n",
       "      <td>Побывали в этом отеле.Стандартный номер.Все но...</td>\n",
       "      <td>побывать в этот отель стандартный номер весь н...</td>\n",
       "    </tr>\n",
       "  </tbody>\n",
       "</table>\n",
       "</div>"
      ],
      "text/plain": [
       "     score                                               text  \\\n",
       "516    4.0  Отель подкупает отличным соотношением \"цена/ка...   \n",
       "4      5.0  Отель замечательный. В номере есть холодильник...   \n",
       "511    5.0  Побывали в этом отеле.Стандартный номер.Все но...   \n",
       "\n",
       "                                             text_lemm  \n",
       "516  отель подкупать отличный соотношение цена каче...  \n",
       "4    отель замечательный в номер быть холодильник ч...  \n",
       "511  побывать в этот отель стандартный номер весь н...  "
      ]
     },
     "execution_count": 12,
     "metadata": {},
     "output_type": "execute_result"
    }
   ],
   "source": [
    "df_positive.head(3)"
   ]
  },
  {
   "cell_type": "markdown",
   "metadata": {},
   "source": [
    "# №3 Множества"
   ]
  },
  {
   "cell_type": "markdown",
   "metadata": {},
   "source": [
    "Составляем 2 множества – в одном  слова, которые встречаются только в положительных отзывах, а в другом – встречающиеся только в отрицательных. "
   ]
  },
  {
   "cell_type": "code",
   "execution_count": 13,
   "metadata": {},
   "outputs": [],
   "source": [
    "def create_sets_of_words(df_positive, df_negative):\n",
    "    positive_reviews = Counter(' '.join(df_positive['text_lemm']).split())\n",
    "    negative_reviews = Counter(' '.join(df_negative['text_lemm']).split())\n",
    "\n",
    "    positive_reviews = set({word: n for word, n in positive_reviews.items() if n > 1})\n",
    "    negative_reviews = set({word: n for word, n in negative_reviews.items() if n > 1})\n",
    "\n",
    "    positive_words_set = positive_reviews - negative_reviews\n",
    "    negative_words_set = negative_reviews - positive_reviews\n",
    "    \n",
    "    return positive_words_set, negative_words_set"
   ]
  },
  {
   "cell_type": "markdown",
   "metadata": {},
   "source": [
    "# №4 Предсказание"
   ]
  },
  {
   "cell_type": "markdown",
   "metadata": {},
   "source": [
    "Создаем функцию, которая будет определять, положительный отзыв или отрицательный в зависимости от того, какие слова встретились в нём, и считаем качество при помощи accuracy (1 - за коректно работающую функцию, 1 - за подсчёт accuracy)"
   ]
  },
  {
   "cell_type": "code",
   "execution_count": 14,
   "metadata": {},
   "outputs": [],
   "source": [
    "def predict_tone(text, positive_words_set, negative_words_set):\n",
    "    text = lemmatize(text).split()\n",
    "    positive_num = len([word for word in text if word in positive_words_set])\n",
    "    negative_num = len([word for word in text if word in negative_words_set])\n",
    "    positive_percent = round(positive_num / len(text) * 100, 2)\n",
    "    negative_percent = round(negative_num / len(text) * 100, 2)\n",
    "    \n",
    "    return positive_percent, negative_percent"
   ]
  },
  {
   "cell_type": "markdown",
   "metadata": {},
   "source": [
    "**Считаем accuracy для функции определения негативных отзывов**"
   ]
  },
  {
   "cell_type": "code",
   "execution_count": 18,
   "metadata": {},
   "outputs": [
    {
     "name": "stdout",
     "output_type": "stream",
     "text": [
      "Accuracy of detecting negative reviews: 0.9\n"
     ]
    }
   ],
   "source": [
    "neg_gold = [1] * 10\n",
    "neg_results = []\n",
    "\n",
    "for prediction in negative_predict:\n",
    "    positive_words_set, negative_words_set = create_sets_of_words(df_positive, df_negative)\n",
    "    pos, neg = predict_tone(prediction, positive_words_set, negative_words_set)\n",
    "    if neg > pos:\n",
    "        neg_results.append(1)\n",
    "    else:\n",
    "        neg_results.append(0)\n",
    "print('Accuracy of detecting negative reviews:', accuracy_score(neg_gold, neg_results))"
   ]
  },
  {
   "cell_type": "markdown",
   "metadata": {},
   "source": [
    "**Считаем accuracy для функции определения положительных отзывов**"
   ]
  },
  {
   "cell_type": "code",
   "execution_count": 16,
   "metadata": {},
   "outputs": [
    {
     "name": "stdout",
     "output_type": "stream",
     "text": [
      "Accuracy of detecting positive reviews: 0.3\n"
     ]
    }
   ],
   "source": [
    "pos_gold = [1] * 10\n",
    "pos_results = []\n",
    "\n",
    "for prediction in positive_predict:\n",
    "    positive_words_set, negative_words_set = create_sets_of_words(df_positive, df_negative)\n",
    "    pos, neg = predict_tone(prediction, positive_words_set, negative_words_set)\n",
    "    if pos > neg:\n",
    "        pos_results.append(1)\n",
    "    else:\n",
    "        pos_results.append(0)\n",
    "print('Accuracy of detecting positive reviews:', accuracy_score(pos_gold, pos_results))"
   ]
  },
  {
   "cell_type": "markdown",
   "metadata": {},
   "source": [
    "# Limitations, или как попробовать улучшить "
   ]
  },
  {
   "cell_type": "markdown",
   "metadata": {},
   "source": [
    "1. Можно попробовать использовать сеты из биграмм, а не из единичных терминов. Тогда, например, сеты составленные из отзывов _мне не понравился отель_ и _мне понравился отель_ будут отличаться не только наличием/отсутствием частицы _не_, по которой нельзя понять, к чему она относится. \n",
    "2. Можно добавить POS tags и учитывать при анализе только Noun, Adjective, Adverb, Verb.\n"
   ]
  }
 ],
 "metadata": {
  "kernelspec": {
   "display_name": "Python 3",
   "language": "python",
   "name": "python3"
  },
  "language_info": {
   "codemirror_mode": {
    "name": "ipython",
    "version": 3
   },
   "file_extension": ".py",
   "mimetype": "text/x-python",
   "name": "python",
   "nbconvert_exporter": "python",
   "pygments_lexer": "ipython3",
   "version": "3.8.5"
  }
 },
 "nbformat": 4,
 "nbformat_minor": 4
}
